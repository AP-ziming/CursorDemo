{
  "cells": [
    {
      "cell_type": "markdown",
      "id": "df4e4b2b-967b-4987-8fc9-90eaa9e9512c",
      "metadata": {
        "id": "df4e4b2b-967b-4987-8fc9-90eaa9e9512c"
      },
      "source": [
        "## **1.Python Functions**\n",
        "In Python, a function lets you group some code together so you can reuse it anytime you want. This saves time and keeps your code clean.\n"
      ]
    },
    {
      "cell_type": "markdown",
      "id": "3abc790e-c678-476f-b7f7-408e94b64d26",
      "metadata": {
        "id": "3abc790e-c678-476f-b7f7-408e94b64d26"
      },
      "source": [
        "### **What Are the Benefits?**\n",
        "- Reuse your code: Write it once, use it many times.\n",
        "- Keep things organized: Group related steps together.\n",
        "- Find bugs more easily: You know where to look.\n",
        "- Make your code easier to read: Others (and you!) can understand it better."
      ]
    },
    {
      "cell_type": "markdown",
      "id": "4f95a47e",
      "metadata": {},
      "source": [
        "### **Basic Function Syntax**"
      ]
    },
    {
      "cell_type": "markdown",
      "id": "efcb56bf-6262-4d1d-a3f0-42df365589de",
      "metadata": {
        "id": "efcb56bf-6262-4d1d-a3f0-42df365589de"
      },
      "source": [
        "```\n",
        "def function_name(parameters):\n",
        "    '''Optional docstring'''\n",
        "    # function body\n",
        "    returm value\n",
        "```\n",
        "\n",
        "After defining it, you can call the function using its name followed by parentheses:\n",
        "\n",
        "```function_name(parameters)```"
      ]
    },
    {
      "cell_type": "code",
      "execution_count": 1,
      "id": "07877ded",
      "metadata": {},
      "outputs": [],
      "source": [
        "def add(a, b):\n",
        "    '''This function returns the sum of two numbers'''\n",
        "    result = a + b\n",
        "    return result"
      ]
    },
    {
      "cell_type": "code",
      "execution_count": 2,
      "id": "f1b6bd6f",
      "metadata": {},
      "outputs": [
        {
          "data": {
            "text/plain": [
              "8"
            ]
          },
          "execution_count": 2,
          "metadata": {},
          "output_type": "execute_result"
        }
      ],
      "source": [
        "add(3, 5)"
      ]
    },
    {
      "cell_type": "markdown",
      "id": "d40d8012",
      "metadata": {},
      "source": [
        "### **Difference between print and return**\n",
        "\n",
        "`print()`\n",
        "- Outputs result directly to the console\n",
        "- Does not return a value; function returns None\n",
        "- Useful for debugging or displaying information\n",
        "\n",
        "`return`\n",
        "- Returns a value to the caller\n",
        "- Can be assigned to a variable or used in further calculations\n",
        "- Ends the function immediately when executed\n",
        "\n",
        "\n",
        "|            | **print**            | **return**               |\n",
        "|------------|----------------------|--------------------------|\n",
        "| **Purpose** | Display              | Return value            |\n",
        "| **Return value** | None         | Specified value         |\n",
        "| **Usage**  | Debugging/display    | Logic handling/passing data |\n"
      ]
    },
    {
      "cell_type": "code",
      "execution_count": 3,
      "id": "af73ee6e",
      "metadata": {},
      "outputs": [
        {
          "name": "stdout",
          "output_type": "stream",
          "text": [
            "Hello, Alice!\n"
          ]
        }
      ],
      "source": [
        "#Define a function\n",
        "def greet(name):\n",
        "    print(f\"Hello, {name}!\")\n",
        "\n",
        "#Call the function\n",
        "greet(\"Alice\")"
      ]
    },
    {
      "cell_type": "code",
      "execution_count": 4,
      "id": "705cbdee",
      "metadata": {},
      "outputs": [
        {
          "name": "stdout",
          "output_type": "stream",
          "text": [
            "Hello, Bob!\n"
          ]
        }
      ],
      "source": [
        "#Define a function\n",
        "def greet(name):\n",
        "    return f\"Hello, {name}!\"\n",
        "\n",
        "message = greet(\"Bob\")\n",
        "print(message)\n"
      ]
    },
    {
      "cell_type": "markdown",
      "id": "adfc9165-c164-4c2d-8fd9-d32fb55fba78",
      "metadata": {
        "id": "adfc9165-c164-4c2d-8fd9-d32fb55fba78"
      },
      "source": [
        "### **Define a function without parameter:**"
      ]
    },
    {
      "cell_type": "code",
      "execution_count": 5,
      "id": "9826a472-5bb7-4339-b7e3-a4dcf279867d",
      "metadata": {
        "id": "9826a472-5bb7-4339-b7e3-a4dcf279867d"
      },
      "outputs": [],
      "source": [
        "# Here we define a function\n",
        "def say_hello():\n",
        "    print(\"Hello there!\")  # inside the function\n",
        "    print(\"This is the 'say_hello' function.\")"
      ]
    },
    {
      "cell_type": "code",
      "execution_count": 6,
      "id": "c724d3c0",
      "metadata": {},
      "outputs": [
        {
          "name": "stdout",
          "output_type": "stream",
          "text": [
            "Hello there!\n",
            "This is the 'say_hello' function.\n"
          ]
        }
      ],
      "source": [
        "# Now we can call the function\n",
        "say_hello()"
      ]
    },
    {
      "cell_type": "markdown",
      "id": "e83b657b-d2f0-4151-b157-eded014bbc2b",
      "metadata": {
        "id": "e83b657b-d2f0-4151-b157-eded014bbc2b"
      },
      "source": [
        "### **Define a function with a parameter:**"
      ]
    },
    {
      "cell_type": "code",
      "execution_count": 7,
      "id": "69a8c781-be0b-4623-a16b-d8d65215dd0a",
      "metadata": {
        "id": "69a8c781-be0b-4623-a16b-d8d65215dd0a"
      },
      "outputs": [],
      "source": [
        "def say_hello(name):\n",
        "    print(f\"Hello {name}!\")\n",
        "    print(\"I am inside the function called 'say_hello'.\")"
      ]
    },
    {
      "cell_type": "code",
      "execution_count": 8,
      "id": "cb68d7ef",
      "metadata": {},
      "outputs": [
        {
          "name": "stdout",
          "output_type": "stream",
          "text": [
            "Hello Christina!\n",
            "I am inside the function called 'say_hello'.\n"
          ]
        }
      ],
      "source": [
        "# Now, since this function takes in one argument, we must call it with an argument:\n",
        "say_hello(\"Christina\")"
      ]
    },
    {
      "cell_type": "markdown",
      "id": "53847e28",
      "metadata": {},
      "source": [
        "### **With Default parameters**"
      ]
    },
    {
      "cell_type": "code",
      "execution_count": 9,
      "id": "b88f1858",
      "metadata": {},
      "outputs": [],
      "source": [
        "def say_hello(name = \"Guest\"):\n",
        "    return(f\"Hellp {name}!\")"
      ]
    },
    {
      "cell_type": "code",
      "execution_count": 10,
      "id": "0519ccf5",
      "metadata": {},
      "outputs": [
        {
          "data": {
            "text/plain": [
              "'Hellp Guest!'"
            ]
          },
          "execution_count": 10,
          "metadata": {},
          "output_type": "execute_result"
        }
      ],
      "source": [
        "say_hello()"
      ]
    },
    {
      "cell_type": "markdown",
      "id": "932ebed2-98d3-4a4e-bfc5-5af169b1e34b",
      "metadata": {
        "id": "932ebed2-98d3-4a4e-bfc5-5af169b1e34b"
      },
      "source": [
        "### **Define a function with two parameters:**"
      ]
    },
    {
      "cell_type": "code",
      "execution_count": 11,
      "id": "8b18a03b-e3d3-4aca-b2e1-7f1ccef862d5",
      "metadata": {
        "id": "8b18a03b-e3d3-4aca-b2e1-7f1ccef862d5"
      },
      "outputs": [],
      "source": [
        "def say_hello(name: str, email: str = 'school_email@gmail.com'):\n",
        "    '''\n",
        "    Function name: say_hello\n",
        "    This function takes two inputs: name and email.\n",
        "    Both should be strings.\n",
        "\n",
        "    text2 has a default value of 'columbia'.\n",
        "    If you don’t provide text2, Python will use 'school_email@gmail.com' by default.\n",
        "\n",
        "    The function prints two strings.\n",
        "    '''\n",
        "    print(f\"Hello {name}!\")\n",
        "    print(f\"This is my email {email}.\")"
      ]
    },
    {
      "cell_type": "code",
      "execution_count": 12,
      "id": "016aae83",
      "metadata": {},
      "outputs": [
        {
          "name": "stdout",
          "output_type": "stream",
          "text": [
            "Hello Christina!\n",
            "This is my email school_email@gmail.com.\n"
          ]
        }
      ],
      "source": [
        "#say_hello(\"Christina\", \"Chr123@gmail.com\")\n",
        "\n",
        "# when you don't provide the second parameter \"email\", then it will print the default string 'school_email@gmail.com'\n",
        "say_hello(\"Christina\")"
      ]
    },
    {
      "cell_type": "code",
      "execution_count": 13,
      "id": "76af253f",
      "metadata": {},
      "outputs": [],
      "source": [
        "def calc(a, b):\n",
        "    total = a + b # sum of a and b\n",
        "    squared = total ** 2 # square of the sum\n",
        "    result = squared/2 # divide the squared by 2\n",
        "    return result\n"
      ]
    },
    {
      "cell_type": "code",
      "execution_count": 14,
      "id": "c2c07d3c",
      "metadata": {},
      "outputs": [
        {
          "data": {
            "text/plain": [
              "32.0"
            ]
          },
          "execution_count": 14,
          "metadata": {},
          "output_type": "execute_result"
        }
      ],
      "source": [
        "x = calc(3, 5)\n",
        "x"
      ]
    },
    {
      "cell_type": "code",
      "execution_count": 15,
      "id": "14d2b588",
      "metadata": {},
      "outputs": [
        {
          "data": {
            "text/plain": [
              "33.0"
            ]
          },
          "execution_count": 15,
          "metadata": {},
          "output_type": "execute_result"
        }
      ],
      "source": [
        "x + 1"
      ]
    },
    {
      "cell_type": "markdown",
      "id": "0d4e7f2e-d0d1-4b17-9a5d-aca3dbaa318b",
      "metadata": {
        "id": "0d4e7f2e-d0d1-4b17-9a5d-aca3dbaa318b"
      },
      "source": [
        "## **2.Python for loops**\n",
        "The for loop is a common way to repeat actions in Python. It goes through each item in a sequence (like a list, tuple, or string) and runs a block of code for every item."
      ]
    },
    {
      "cell_type": "markdown",
      "id": "5f76b146-5284-4807-a79a-bb119b3aeea1",
      "metadata": {
        "id": "5f76b146-5284-4807-a79a-bb119b3aeea1"
      },
      "source": [
        "Basic Syntax:\n",
        "```\n",
        "for element in sequence:\n",
        "    # do something with element\n",
        "```\n",
        "- for and in are the key parts of the loop.\n",
        "- After in, you write any object that can be looped over (like a list or string).\n",
        "- After the colon :, the indented block runs each time through the loop.\n",
        "- Just like with functions, indentation matters!"
      ]
    },
    {
      "cell_type": "markdown",
      "id": "722a02df-af04-449f-a87e-cb10452dc78d",
      "metadata": {
        "id": "722a02df-af04-449f-a87e-cb10452dc78d"
      },
      "source": [
        "### Iterate Over List\n",
        "One of the easiest and most common ways to go through items in a list is by using a for loop."
      ]
    },
    {
      "cell_type": "code",
      "execution_count": 16,
      "id": "4dd02702-d216-4c4a-b007-ed3ca4570d48",
      "metadata": {
        "id": "4dd02702-d216-4c4a-b007-ed3ca4570d48"
      },
      "outputs": [],
      "source": [
        "my_list = [1, 2, 3]"
      ]
    },
    {
      "cell_type": "markdown",
      "id": "92ddd864-b208-4c6a-8ae1-b88389024536",
      "metadata": {
        "id": "92ddd864-b208-4c6a-8ae1-b88389024536"
      },
      "source": [
        "With a basic for loop, we can print each item in the list, and this loop goes through my_list one item at a time and prints each value:"
      ]
    },
    {
      "cell_type": "code",
      "execution_count": 17,
      "id": "9530fa5a-ac3a-464c-a87c-c0db8285af62",
      "metadata": {
        "id": "9530fa5a-ac3a-464c-a87c-c0db8285af62"
      },
      "outputs": [
        {
          "name": "stdout",
          "output_type": "stream",
          "text": [
            "1\n",
            "2\n",
            "3\n"
          ]
        }
      ],
      "source": [
        "for item in my_list:\n",
        "    print(item)"
      ]
    },
    {
      "cell_type": "markdown",
      "id": "0eb823aa-e252-4855-ade6-62e20c53e517",
      "metadata": {
        "id": "0eb823aa-e252-4855-ade6-62e20c53e517"
      },
      "source": [
        "We can also use a for loop to do something with each item in the list. For example, let's print each number along with its square:"
      ]
    },
    {
      "cell_type": "code",
      "execution_count": 18,
      "id": "71773ac9-7583-4d54-92db-16e8a3211d61",
      "metadata": {
        "id": "71773ac9-7583-4d54-92db-16e8a3211d61"
      },
      "outputs": [
        {
          "name": "stdout",
          "output_type": "stream",
          "text": [
            "The square of 1 is 1\n",
            "The square of 2 is 4\n",
            "The square of 3 is 9\n"
          ]
        }
      ],
      "source": [
        "for x in my_list:\n",
        "    sqrd = x ** 2\n",
        "    to_print = f\"The square of {x} is {sqrd}\"\n",
        "    print(to_print)"
      ]
    },
    {
      "cell_type": "markdown",
      "id": "513b2b75-6271-4eff-a8b7-733513f99843",
      "metadata": {
        "id": "513b2b75-6271-4eff-a8b7-733513f99843"
      },
      "source": [
        "#### **List Comprehension**\n",
        "List comprehension is a short and simple way to create a new list by using a single line of code.<br>\n",
        "It’s a shortcut for using a for loop to build a list."
      ]
    },
    {
      "cell_type": "markdown",
      "id": "0ad484c7-14b6-478b-80ba-4f13cde6e1b0",
      "metadata": {
        "id": "0ad484c7-14b6-478b-80ba-4f13cde6e1b0"
      },
      "source": [
        "**General Format of List Comprehension:**\n",
        "```\n",
        "[new_item for item in iterable]\n",
        "```\n"
      ]
    },
    {
      "cell_type": "markdown",
      "id": "56ebfb3a-b646-4c85-9809-22fe8a67c080",
      "metadata": {
        "id": "56ebfb3a-b646-4c85-9809-22fe8a67c080"
      },
      "source": [
        "Regular for loop:"
      ]
    },
    {
      "cell_type": "code",
      "execution_count": 19,
      "id": "de210561-435b-466e-9ec7-8abe3f1d040b",
      "metadata": {
        "id": "de210561-435b-466e-9ec7-8abe3f1d040b",
        "outputId": "e4767e01-1639-40dd-915c-a25375277c07"
      },
      "outputs": [
        {
          "name": "stdout",
          "output_type": "stream",
          "text": [
            "[1, 4, 9, 16, 25]\n"
          ]
        }
      ],
      "source": [
        "numbers = [1, 2, 3, 4, 5]\n",
        "squares = []\n",
        "\n",
        "for num in numbers:\n",
        "    squares.append(num ** 2)\n",
        "\n",
        "print(squares)"
      ]
    },
    {
      "cell_type": "markdown",
      "id": "544b77ee-152d-4948-a2da-6556ba232409",
      "metadata": {
        "id": "544b77ee-152d-4948-a2da-6556ba232409"
      },
      "source": [
        "Same thing with list comprehension:"
      ]
    },
    {
      "cell_type": "code",
      "execution_count": 20,
      "id": "e8aeb830-a013-4b15-a035-f9e368c0744b",
      "metadata": {
        "id": "e8aeb830-a013-4b15-a035-f9e368c0744b",
        "outputId": "1c649575-e587-4d86-9303-f65ba89b7ad9"
      },
      "outputs": [
        {
          "name": "stdout",
          "output_type": "stream",
          "text": [
            "[1, 4, 9, 16, 25]\n"
          ]
        }
      ],
      "source": [
        "squares = [num ** 2 for num in numbers]\n",
        "print(squares)"
      ]
    },
    {
      "cell_type": "markdown",
      "id": "04ac8b29-964c-4ea5-a718-3148dd72ef49",
      "metadata": {
        "id": "04ac8b29-964c-4ea5-a718-3148dd72ef49"
      },
      "source": [
        "You can also add a condition to include only certain items:<br>\n",
        "**List Comprehension with `if`<br>**\n",
        "```\n",
        "[expression for item in iterable if condition]\n",
        "```\n"
      ]
    },
    {
      "cell_type": "code",
      "execution_count": 21,
      "id": "d0304742-99cf-4628-a8e3-6c3acda3feb1",
      "metadata": {
        "id": "d0304742-99cf-4628-a8e3-6c3acda3feb1",
        "outputId": "c1611b56-d76d-49c7-84ad-0b11d9294576"
      },
      "outputs": [
        {
          "name": "stdout",
          "output_type": "stream",
          "text": [
            "[4, 16]\n"
          ]
        }
      ],
      "source": [
        "squares_even_number = [num ** 2 for num in numbers if num%2==0]\n",
        "print(squares_even_number)"
      ]
    },
    {
      "cell_type": "markdown",
      "id": "ca9d0443-1bfd-4bef-89a6-521cd91bc159",
      "metadata": {
        "id": "ca9d0443-1bfd-4bef-89a6-521cd91bc159"
      },
      "source": [
        "**List Comprehension with `if/else`<br>**\n",
        "```\n",
        "[true_value if condition else false_value for item in iterable]\n",
        "```"
      ]
    },
    {
      "cell_type": "code",
      "execution_count": 22,
      "id": "ddc29ea5-3a41-4e43-8872-cc6b408d126b",
      "metadata": {
        "id": "ddc29ea5-3a41-4e43-8872-cc6b408d126b",
        "outputId": "ff7ea697-2761-4bf4-d349-9806cdf5c6a1"
      },
      "outputs": [
        {
          "name": "stdout",
          "output_type": "stream",
          "text": [
            "[1, 4, 3, 16, 5]\n"
          ]
        }
      ],
      "source": [
        "squares_odd_number = [num**2 if num%2==0 else num**1 for num in numbers]\n",
        "print(squares_odd_number)"
      ]
    },
    {
      "cell_type": "markdown",
      "id": "37e2bf58-8d24-438b-8cc2-70b82f3d0d3b",
      "metadata": {
        "id": "37e2bf58-8d24-438b-8cc2-70b82f3d0d3b"
      },
      "source": [
        "### Iterate Over Set"
      ]
    },
    {
      "cell_type": "code",
      "execution_count": 23,
      "id": "fb516e3f-bc87-4a48-adfb-81b519cbc1f0",
      "metadata": {
        "id": "fb516e3f-bc87-4a48-adfb-81b519cbc1f0"
      },
      "outputs": [
        {
          "name": "stdout",
          "output_type": "stream",
          "text": [
            "apple 5\n",
            "banana 6\n",
            "orange 6\n"
          ]
        }
      ],
      "source": [
        "my_set = {\"apple\", \"banana\", \"orange\", \"apple\"}\n",
        "for fruit in my_set:\n",
        "    print(fruit, len(fruit))"
      ]
    },
    {
      "cell_type": "markdown",
      "id": "d7dd8f73-3793-4126-889b-3463f8534658",
      "metadata": {
        "id": "d7dd8f73-3793-4126-889b-3463f8534658"
      },
      "source": [
        "It prints each word in the set, and the length of the word."
      ]
    },
    {
      "cell_type": "markdown",
      "id": "7ab4016b-a6e8-4736-9acf-ee345c695e5f",
      "metadata": {
        "id": "7ab4016b-a6e8-4736-9acf-ee345c695e5f"
      },
      "source": [
        "### Iterate Over a String\n"
      ]
    },
    {
      "cell_type": "code",
      "execution_count": 24,
      "id": "3fb00e76-4644-42f7-9e8a-6f9f93060e74",
      "metadata": {
        "id": "3fb00e76-4644-42f7-9e8a-6f9f93060e74"
      },
      "outputs": [
        {
          "name": "stdout",
          "output_type": "stream",
          "text": [
            "T\n",
            "a\n",
            "y\n",
            "l\n",
            "o\n",
            "r\n",
            " \n",
            "S\n",
            "w\n",
            "i\n",
            "f\n",
            "t\n"
          ]
        }
      ],
      "source": [
        "my_name = \"Taylor Swift\"\n",
        "\n",
        "for char in my_name:\n",
        "    print(char)"
      ]
    },
    {
      "cell_type": "markdown",
      "id": "0ee51f3a-196d-4c65-8ace-d5b9133f3611",
      "metadata": {
        "id": "0ee51f3a-196d-4c65-8ace-d5b9133f3611"
      },
      "source": [
        "### Iterate Over a Dictionary\n",
        "For dictionary, default implementation is looping over a list of keys."
      ]
    },
    {
      "cell_type": "code",
      "execution_count": 25,
      "id": "11527d67-9925-45f6-9814-203cc7fb65a7",
      "metadata": {
        "id": "11527d67-9925-45f6-9814-203cc7fb65a7"
      },
      "outputs": [
        {
          "name": "stdout",
          "output_type": "stream",
          "text": [
            "apple\n",
            "banana\n",
            "orange\n",
            "grape\n"
          ]
        }
      ],
      "source": [
        "fruit_counts = {\n",
        "    'apple': 5,\n",
        "    'banana': 2,\n",
        "    'orange': 7,\n",
        "    'grape': 0\n",
        "}\n",
        "\n",
        "for fruit in fruit_counts:\n",
        "    print(fruit)"
      ]
    },
    {
      "cell_type": "markdown",
      "id": "e1dc1eb6-2b1e-4b75-a573-a19156c8d88a",
      "metadata": {
        "id": "e1dc1eb6-2b1e-4b75-a573-a19156c8d88a"
      },
      "source": [
        "If you want to loop over value, you can do this:"
      ]
    },
    {
      "cell_type": "code",
      "execution_count": 26,
      "id": "8f72c8ce-45a3-4fbe-bfb9-55d67d947b75",
      "metadata": {
        "id": "8f72c8ce-45a3-4fbe-bfb9-55d67d947b75"
      },
      "outputs": [
        {
          "name": "stdout",
          "output_type": "stream",
          "text": [
            "5\n",
            "2\n",
            "7\n",
            "0\n"
          ]
        }
      ],
      "source": [
        "for key in fruit_counts:\n",
        "  print(fruit_counts[key])"
      ]
    },
    {
      "cell_type": "markdown",
      "id": "4cc3d45c-2ebb-4cd8-ae6f-e43ecb4b3ce3",
      "metadata": {
        "id": "4cc3d45c-2ebb-4cd8-ae6f-e43ecb4b3ce3"
      },
      "source": [
        "If you want to loop over both key and value:"
      ]
    },
    {
      "cell_type": "code",
      "execution_count": 27,
      "id": "f99c2bcc-ee26-40c6-b3df-44f880602574",
      "metadata": {
        "id": "f99c2bcc-ee26-40c6-b3df-44f880602574"
      },
      "outputs": [
        {
          "name": "stdout",
          "output_type": "stream",
          "text": [
            "apple 5\n",
            "banana 2\n",
            "orange 7\n",
            "grape 0\n"
          ]
        }
      ],
      "source": [
        "for key, value in fruit_counts.items():\n",
        "  print(key, value)"
      ]
    },
    {
      "cell_type": "markdown",
      "id": "caafdc22-853a-4ac3-bf36-d16b4c47f531",
      "metadata": {
        "id": "caafdc22-853a-4ac3-bf36-d16b4c47f531"
      },
      "source": [
        "### \"Range\" Function at For Loop\n",
        "There's another built-in function – range – to generate an iterable for us:"
      ]
    },
    {
      "cell_type": "code",
      "execution_count": 28,
      "id": "679756e0-0500-42cb-9410-e090cb882bb8",
      "metadata": {
        "id": "679756e0-0500-42cb-9410-e090cb882bb8"
      },
      "outputs": [
        {
          "name": "stdout",
          "output_type": "stream",
          "text": [
            "0\n",
            "1\n",
            "2\n",
            "3\n",
            "4\n"
          ]
        }
      ],
      "source": [
        "for n in range(5):  # from 0 up to but not including 5\n",
        "    print(n)"
      ]
    },
    {
      "cell_type": "markdown",
      "id": "43d474dc-1227-4ded-8b3f-b62181742c95",
      "metadata": {
        "id": "43d474dc-1227-4ded-8b3f-b62181742c95"
      },
      "source": [
        "range(5) returns numbers from 0 up to but not including 5."
      ]
    },
    {
      "cell_type": "markdown",
      "id": "92aa039f-5f5e-435f-85b2-52898aea25fe",
      "metadata": {
        "id": "92aa039f-5f5e-435f-85b2-52898aea25fe"
      },
      "source": [
        "If we want the count to begin at a number other than 0, we can use range with two values: the starting number (included) and the ending number (not included)."
      ]
    },
    {
      "cell_type": "code",
      "execution_count": 29,
      "id": "5eb5a696-3272-411f-9888-1cfb99a4b0bd",
      "metadata": {
        "id": "5eb5a696-3272-411f-9888-1cfb99a4b0bd"
      },
      "outputs": [
        {
          "name": "stdout",
          "output_type": "stream",
          "text": [
            "2\n",
            "3\n",
            "4\n",
            "5\n",
            "6\n",
            "7\n"
          ]
        }
      ],
      "source": [
        "for n in range(2, 8):\n",
        "    print(n)"
      ]
    },
    {
      "cell_type": "code",
      "execution_count": 30,
      "id": "5b4c99cc",
      "metadata": {},
      "outputs": [
        {
          "name": "stdout",
          "output_type": "stream",
          "text": [
            "0\n",
            "2\n",
            "4\n",
            "6\n",
            "8\n"
          ]
        }
      ],
      "source": [
        "for n in range(0,10,2):\n",
        "    print(n)"
      ]
    },
    {
      "cell_type": "markdown",
      "id": "fe06bed2-139f-4ea7-a09b-76e7f418ab15",
      "metadata": {
        "id": "fe06bed2-139f-4ea7-a09b-76e7f418ab15"
      },
      "source": [
        "### \"Enumerate\" Function at For Loop\n",
        "Python has a built-in function called enumerate that we can use in a for loop. It gives us both the index and the item during each loop cycle."
      ]
    },
    {
      "cell_type": "code",
      "execution_count": 31,
      "id": "0a373a50-ae10-48a1-9272-c260f9ef8bd1",
      "metadata": {
        "id": "0a373a50-ae10-48a1-9272-c260f9ef8bd1"
      },
      "outputs": [],
      "source": [
        "fruits = [\"apple\", \"banana\", \"orange\"]"
      ]
    },
    {
      "cell_type": "code",
      "execution_count": 32,
      "id": "108ae57a",
      "metadata": {},
      "outputs": [
        {
          "name": "stdout",
          "output_type": "stream",
          "text": [
            "0 apple\n",
            "1 banana\n",
            "2 orange\n"
          ]
        }
      ],
      "source": [
        "for i in range(len(fruits)):\n",
        "    print(i,fruits[i])"
      ]
    },
    {
      "cell_type": "code",
      "execution_count": 33,
      "id": "81a8a576",
      "metadata": {},
      "outputs": [
        {
          "name": "stdout",
          "output_type": "stream",
          "text": [
            "0 apple\n",
            "1 banana\n",
            "2 orange\n"
          ]
        }
      ],
      "source": [
        "for i, fruit in enumerate(fruits):\n",
        "    print(i, fruit)"
      ]
    },
    {
      "cell_type": "code",
      "execution_count": 34,
      "id": "cba2aa6d",
      "metadata": {},
      "outputs": [
        {
          "name": "stdout",
          "output_type": "stream",
          "text": [
            "1 apple\n",
            "2 banana\n",
            "3 orange\n"
          ]
        }
      ],
      "source": [
        "for i, fruit in enumerate(fruits, start=1):\n",
        "    print(i, fruit)"
      ]
    },
    {
      "cell_type": "markdown",
      "id": "9a30fe9e-9507-45e0-9b3e-03d2ac59ee8d",
      "metadata": {
        "id": "9a30fe9e-9507-45e0-9b3e-03d2ac59ee8d"
      },
      "source": [
        "It prints each character in the string along with its position (index)."
      ]
    },
    {
      "cell_type": "markdown",
      "id": "8de844c3-5457-42b2-a1b9-0901156fac44",
      "metadata": {
        "id": "8de844c3-5457-42b2-a1b9-0901156fac44"
      },
      "source": [
        "### \"Zip\" Function at For Loop\n",
        "With zip function, we can create a sequence of pairs that contain the value from each list (in order of the list)."
      ]
    },
    {
      "cell_type": "code",
      "execution_count": 35,
      "id": "851e36b2-1d57-4cf6-a4f7-b4eaa94282c2",
      "metadata": {
        "id": "851e36b2-1d57-4cf6-a4f7-b4eaa94282c2"
      },
      "outputs": [
        {
          "name": "stdout",
          "output_type": "stream",
          "text": [
            "Alice 85\n",
            "Bob 92\n"
          ]
        }
      ],
      "source": [
        "names = [\"Alice\", \"Bob\"]\n",
        "scores = [85, 92, 80]\n",
        "\n",
        "for n, score in zip(names, scores):\n",
        "    print(n, score)\n"
      ]
    },
    {
      "cell_type": "markdown",
      "id": "db16420f",
      "metadata": {},
      "source": [
        "| Function      | Description                                                         | Example Use Case                                       |\n",
        "|---------------|---------------------------------------------------------------------|-------------------------------------------------------|\n",
        "| `range()`     | Generates a **sequence of integers**, often used to control loops or generate indexes. | Looping a fixed number of times (`for i in range(5):`) |\n",
        "| `enumerate()` | Iterates over a list (or other iterable), **returning both the index and the value**. | Getting both index and value when looping through a list (`for i, v in enumerate(my_list):`) |\n",
        "| `zip()`       | **Combines** two or more lists into pairs (or tuples), so they can be **looped over together**. | Iterating over multiple lists in parallel (`for a, b in zip(list1, list2):`) |\n"
      ]
    },
    {
      "cell_type": "markdown",
      "id": "ef19e9e5-5745-4979-b5e8-e1c95fa1d9ea",
      "metadata": {
        "id": "ef19e9e5-5745-4979-b5e8-e1c95fa1d9ea"
      },
      "source": [
        "### Nested For Loop\n",
        "- A nested for loop means putting one for loop inside another.\n",
        "- It's useful when you want to go through multiple sequences and do something with items from each one."
      ]
    },
    {
      "cell_type": "code",
      "execution_count": 36,
      "id": "0701e13f-68b6-4db0-bd96-08c31a4f01db",
      "metadata": {
        "id": "0701e13f-68b6-4db0-bd96-08c31a4f01db"
      },
      "outputs": [
        {
          "name": "stdout",
          "output_type": "stream",
          "text": [
            "This combination: red, circle\n",
            "This combination: red, square\n",
            "This combination: blue, circle\n",
            "This combination: blue, square\n"
          ]
        }
      ],
      "source": [
        "colors = ['red', 'blue']\n",
        "shapes = ['circle', 'square']\n",
        "\n",
        "# We want to find every possible combination of color and shape.\n",
        "for color in colors:\n",
        "    for shape in shapes:\n",
        "        print(f'This combination: {color}, {shape}')"
      ]
    },
    {
      "cell_type": "markdown",
      "id": "e5e6292b-5a29-4134-b361-3e611e567fe5",
      "metadata": {
        "id": "e5e6292b-5a29-4134-b361-3e611e567fe5"
      },
      "source": [
        "## **3.Python while loops**\n",
        "A `while` loop is used to repeatedly execute a block of code as long as a certain condition is true.\n",
        "\n",
        "- The basic syntax for a while loop is as follows.\n",
        "```\n",
        "while condition:\n",
        "    # do something again and again while the condition is true\n",
        "```"
      ]
    },
    {
      "cell_type": "code",
      "execution_count": 37,
      "id": "67c6d838-6ab7-4811-8720-0700621ab2e6",
      "metadata": {
        "id": "67c6d838-6ab7-4811-8720-0700621ab2e6"
      },
      "outputs": [
        {
          "name": "stdout",
          "output_type": "stream",
          "text": [
            "5\n",
            "6\n",
            "7\n",
            "8\n",
            "Loop is done. Final value of num: 9\n"
          ]
        }
      ],
      "source": [
        "num = 5\n",
        "while num <= 8:\n",
        "    print(num)\n",
        "    num = num + 1\n",
        "print('Loop is done. Final value of num:', num)"
      ]
    },
    {
      "cell_type": "markdown",
      "id": "ebd96a2f-e1a5-4c03-883c-eed23fdb643e",
      "metadata": {
        "id": "ebd96a2f-e1a5-4c03-883c-eed23fdb643e"
      },
      "source": [
        "### For Loop vs. While Loop\n",
        "- Both for and while loops let you repeat a block of code, but they’re used in different cases:\n",
        "     - Use a for loop when you know how many times you want to repeat something (like going through a list).\n",
        "    - Use a while loop when you want to keep repeating until a condition becomes false."
      ]
    },
    {
      "cell_type": "code",
      "execution_count": 38,
      "id": "2eb1d6e9-3dba-4ce0-8754-b5eedd610e1a",
      "metadata": {
        "id": "2eb1d6e9-3dba-4ce0-8754-b5eedd610e1a"
      },
      "outputs": [
        {
          "name": "stdout",
          "output_type": "stream",
          "text": [
            "5\n",
            "6\n",
            "7\n",
            "8\n"
          ]
        }
      ],
      "source": [
        "#This gives the same result as the \"while loop\" example above\n",
        "for i in range(5,9):\n",
        "    print(i)"
      ]
    },
    {
      "cell_type": "markdown",
      "id": "9c1fa70c-498d-4093-9d66-ba145cd8dae5",
      "metadata": {
        "id": "9c1fa70c-498d-4093-9d66-ba145cd8dae5"
      },
      "source": [
        "## **4.Python if/else statements**\n",
        "Sometimes, we want our code to do different things depending on a condition. We can use if/else statements to check if something is true, and then run different code based on that.\n",
        "- Basic Syntax:\n",
        "```\n",
        "    if CONDITION:\n",
        "        # code runs if condition is True\n",
        "    else:\n",
        "        # code runs if condition is False\n",
        "```\n",
        "- if and else are the keywords we use, and each ends with a :.\n",
        "- The code inside each block must be indented, just like with for or def.\n",
        "- Only one block will run: either the if block or the else block.\n",
        "- The condition is usually a True/False (boolean) value or expression.\n",
        "- The else part is optional — you don’t have to include it every time."
      ]
    },
    {
      "cell_type": "code",
      "execution_count": 39,
      "id": "973d652a-babe-42c6-af79-c78e82d11294",
      "metadata": {
        "id": "973d652a-babe-42c6-af79-c78e82d11294"
      },
      "outputs": [
        {
          "name": "stdout",
          "output_type": "stream",
          "text": [
            "You are a minor.\n"
          ]
        }
      ],
      "source": [
        "age = 15\n",
        "if age >= 18:\n",
        "    print(\"You are an adult.\")\n",
        "else:\n",
        "    print(\"You are a minor.\")"
      ]
    },
    {
      "cell_type": "markdown",
      "id": "d9eedf7b-8b94-47e7-8352-8753674e8e00",
      "metadata": {
        "id": "d9eedf7b-8b94-47e7-8352-8753674e8e00"
      },
      "source": [
        "### define functions with if/else statements"
      ]
    },
    {
      "cell_type": "code",
      "execution_count": 40,
      "id": "ba8122f4-2378-4bd4-99df-88c921001d5b",
      "metadata": {
        "id": "ba8122f4-2378-4bd4-99df-88c921001d5b"
      },
      "outputs": [
        {
          "name": "stdout",
          "output_type": "stream",
          "text": [
            "No! It is odd: 3\n"
          ]
        }
      ],
      "source": [
        "def check_if_number_is_even(n):\n",
        "    if n % 2 == 0:\n",
        "        print('Yes! It is even:', n)\n",
        "    else:\n",
        "        print('No! It is odd:', n)\n",
        "#call function\n",
        "check_if_number_is_even(3)"
      ]
    },
    {
      "cell_type": "markdown",
      "id": "81231a1f-a74f-48b8-8549-44f28d5b2c88",
      "metadata": {
        "id": "81231a1f-a74f-48b8-8549-44f28d5b2c88"
      },
      "source": [
        "### Loops with if/else statements"
      ]
    },
    {
      "cell_type": "code",
      "execution_count": 41,
      "id": "fbad4209-ef4f-4c3e-8f66-2e8a81eb3536",
      "metadata": {
        "id": "fbad4209-ef4f-4c3e-8f66-2e8a81eb3536"
      },
      "outputs": [
        {
          "name": "stdout",
          "output_type": "stream",
          "text": [
            "1 is odd\n",
            "2 is even\n",
            "3 is odd\n",
            "4 is even\n",
            "5 is odd\n"
          ]
        }
      ],
      "source": [
        "numbers = [1, 2, 3, 4, 5]\n",
        "\n",
        "for num in numbers:\n",
        "    if num % 2 == 0:\n",
        "        print(f\"{num} is even\")\n",
        "    else:\n",
        "        print(f\"{num} is odd\")"
      ]
    },
    {
      "cell_type": "markdown",
      "id": "5d679611",
      "metadata": {},
      "source": [
        "### if/elif/else"
      ]
    },
    {
      "cell_type": "markdown",
      "id": "e842e884",
      "metadata": {},
      "source": [
        "- Basic Syntax:\n",
        "```\n",
        "    if CONDITION 1:\n",
        "        # code runs if condition 1 is True\n",
        "    elif CONDITION 2:\n",
        "        # code runs if condition 2 is True\n",
        "    elif CONDITION 3:\n",
        "        # code runs if condition 3 is True\n",
        "    else:\n",
        "        # code runs when none of the conditions are met\n",
        "```"
      ]
    },
    {
      "cell_type": "code",
      "execution_count": 42,
      "id": "eaa19241",
      "metadata": {},
      "outputs": [
        {
          "name": "stdout",
          "output_type": "stream",
          "text": [
            "Grade: B\n"
          ]
        }
      ],
      "source": [
        "score = 85\n",
        "\n",
        "if score >= 90:\n",
        "    print(\"Grade: A\")\n",
        "elif score >= 80:\n",
        "    print(\"Grade: B\")\n",
        "elif score >= 70:\n",
        "    print(\"Grade: C\")\n",
        "else:\n",
        "    print(\"Grade: F\")\n"
      ]
    },
    {
      "cell_type": "markdown",
      "id": "c221400b-22b2-459a-b933-9b802e783b25",
      "metadata": {
        "id": "c221400b-22b2-459a-b933-9b802e783b25"
      },
      "source": [
        "## **5.break/continue**"
      ]
    },
    {
      "cell_type": "markdown",
      "id": "ff10ce7b-a4f9-4e02-93cf-375a3795abac",
      "metadata": {
        "id": "ff10ce7b-a4f9-4e02-93cf-375a3795abac"
      },
      "source": [
        "#### The `break` Keyword\n",
        "The break keyword is used to stop a loop early — it exits the loop as soon as a certain condition is met."
      ]
    },
    {
      "cell_type": "code",
      "execution_count": 43,
      "id": "977df012-1511-452a-b113-001baf023542",
      "metadata": {
        "id": "977df012-1511-452a-b113-001baf023542"
      },
      "outputs": [
        {
          "name": "stdout",
          "output_type": "stream",
          "text": [
            "1\n",
            "2\n"
          ]
        }
      ],
      "source": [
        "# example with for loop\n",
        "for num in [1, 2, 3, 4, 5]:\n",
        "    if num == 3:\n",
        "        break\n",
        "    print(num)"
      ]
    },
    {
      "cell_type": "code",
      "execution_count": 44,
      "id": "501df9d0-5df6-4066-bfc3-a0c5c0ca49fa",
      "metadata": {
        "id": "501df9d0-5df6-4066-bfc3-a0c5c0ca49fa"
      },
      "outputs": [
        {
          "name": "stdout",
          "output_type": "stream",
          "text": [
            "0\n",
            "1\n",
            "2\n"
          ]
        }
      ],
      "source": [
        "# example with while loop\n",
        "x = 0\n",
        "while x < 5:\n",
        "    if x == 3:\n",
        "        break\n",
        "    print(x)\n",
        "    x += 1 # x = x+1"
      ]
    },
    {
      "cell_type": "markdown",
      "id": "4fa66693-384a-473d-9529-44fc5e589d4c",
      "metadata": {
        "id": "4fa66693-384a-473d-9529-44fc5e589d4c"
      },
      "source": [
        "#### The `continue` Keyword\n",
        "The continue keyword is used to skip the rest of the code in the current loop cycle and move to the next iteration."
      ]
    },
    {
      "cell_type": "code",
      "execution_count": 45,
      "id": "5c4b96e2-f727-43ac-b6ac-c17737349676",
      "metadata": {
        "id": "5c4b96e2-f727-43ac-b6ac-c17737349676"
      },
      "outputs": [
        {
          "name": "stdout",
          "output_type": "stream",
          "text": [
            "1\n",
            "2\n",
            "4\n",
            "5\n"
          ]
        }
      ],
      "source": [
        "# example with for loop:\n",
        "for num in [1, 2, 3, 4, 5]:\n",
        "    if num == 3:\n",
        "        continue\n",
        "    print(num)"
      ]
    },
    {
      "cell_type": "code",
      "execution_count": 46,
      "id": "c845947f-b669-4ff5-9381-24c0b1cb25e9",
      "metadata": {
        "id": "c845947f-b669-4ff5-9381-24c0b1cb25e9"
      },
      "outputs": [
        {
          "name": "stdout",
          "output_type": "stream",
          "text": [
            "1\n",
            "2\n",
            "4\n",
            "5\n"
          ]
        }
      ],
      "source": [
        "# example with while loop: \n",
        "x = 0\n",
        "while x < 5:\n",
        "    x += 1\n",
        "    if x == 3:\n",
        "        continue\n",
        "    print(x)"
      ]
    },
    {
      "cell_type": "markdown",
      "id": "07bcb190",
      "metadata": {},
      "source": [
        "| Function        | Keyword     | Description                                     |\n",
        "|-----------------|-------------|-------------------------------------------------|\n",
        "| Conditional Logic | `if/else`   | Directs the program to follow different branches based on conditions |\n",
        "| Exit Loop Early   | `break`     | Immediately exits the entire loop when the condition is met          |\n",
        "| Skip Current Iteration | `continue` | Skips the current loop iteration and moves to the next one            |\n"
      ]
    },
    {
      "cell_type": "markdown",
      "id": "df10fa00-cd62-4683-b262-66bd53e24c6b",
      "metadata": {
        "id": "df10fa00-cd62-4683-b262-66bd53e24c6b"
      },
      "source": [
        "## **6.Exercise**"
      ]
    },
    {
      "cell_type": "markdown",
      "id": "4db2c604-0739-4b00-9032-228528a5cd64",
      "metadata": {
        "id": "4db2c604-0739-4b00-9032-228528a5cd64"
      },
      "source": [
        "### **Q1**\n",
        "1. Define a function called check_even_or_odd.\n",
        "2. The function takes a list of numbers: [1, 2, 3, 4, 5].\n",
        "3. Loop through each number in the list.\n",
        "4. If the number is even, print: 2 is even (replace 2 with the number).\n",
        "5. If the number is odd, print: 3 is odd (replace 3 with the number).\n",
        "You should get:"
      ]
    },
    {
      "cell_type": "raw",
      "id": "5132c09e-2b27-4b5a-a64d-770196267a97",
      "metadata": {
        "id": "5132c09e-2b27-4b5a-a64d-770196267a97",
        "vscode": {
          "languageId": "raw"
        }
      },
      "source": [
        "1 is odd\n",
        "2 is even\n",
        "3 is odd\n",
        "4 is even\n",
        "5 is odd"
      ]
    },
    {
      "cell_type": "code",
      "execution_count": null,
      "id": "a85e45f2-ce69-4e43-89d8-b76e9aceaeb9",
      "metadata": {
        "id": "a85e45f2-ce69-4e43-89d8-b76e9aceaeb9"
      },
      "outputs": [],
      "source": [
        "# Type your answer below\n",
        "def check_even_or_odd(numbers):\n",
        "    for n in numbers:\n",
        "        if n % 2 ==0:\n",
        "            print(f\"{n} is even\")\n",
        "        else:\n",
        "            print(f\"{n} is odd\")"
      ]
    },
    {
      "cell_type": "code",
      "execution_count": null,
      "id": "514ff282",
      "metadata": {},
      "outputs": [],
      "source": [
        "check_even_or_odd([1,2,3,4,5])"
      ]
    },
    {
      "cell_type": "code",
      "execution_count": null,
      "id": "9cd5c2a8-fc82-438b-9671-ac56e4e477ef",
      "metadata": {
        "id": "9cd5c2a8-fc82-438b-9671-ac56e4e477ef"
      },
      "outputs": [],
      "source": [
        "#  Test code: DO NOT CHANGE! Run this to check if the your function works correctly\n",
        "# Run your answer above first\n",
        "import io\n",
        "import sys\n",
        "\n",
        "# Capture print output\n",
        "captured_output = io.StringIO()\n",
        "sys.stdout = captured_output\n",
        "\n",
        "# Run student function\n",
        "check_even_or_odd([1, 2, 3, 4, 5])\n",
        "\n",
        "# Restore normal stdout\n",
        "sys.stdout = sys.__stdout__\n",
        "\n",
        "# Check result\n",
        "expected_output = \"1 is odd\\n2 is even\\n3 is odd\\n4 is even\\n5 is odd\\n\"\n",
        "actual_output = captured_output.getvalue()\n",
        "\n",
        "assert actual_output == expected_output, \"Output is incorrect. Try again!\"\n",
        "print(\"Great job! Your function works correctly.\")\n"
      ]
    },
    {
      "cell_type": "code",
      "execution_count": null,
      "id": "41a3f3d9-441a-4a9c-8dad-114431cfcb0b",
      "metadata": {
        "id": "41a3f3d9-441a-4a9c-8dad-114431cfcb0b"
      },
      "outputs": [],
      "source": [
        "# Q1 Answer\n",
        "# def check_even_or_odd(numbers):\n",
        "#     for num in numbers:\n",
        "#         if num % 2 == 0:\n",
        "#             print(f\"{num} is even\")\n",
        "#         else:\n",
        "#             print(f\"{num} is odd\")\n",
        "\n",
        "# check_even_or_odd([1, 2, 3, 4, 5])"
      ]
    },
    {
      "cell_type": "markdown",
      "id": "2a2f5246-a749-4d06-a0ba-f21375f4c8d5",
      "metadata": {
        "id": "2a2f5246-a749-4d06-a0ba-f21375f4c8d5"
      },
      "source": [
        "### **Q2**\n",
        "What will be the value of count after running the following code?"
      ]
    },
    {
      "cell_type": "raw",
      "id": "27c3c43c-1f38-4bb0-a0a8-b1f8bf2d4cba",
      "metadata": {
        "id": "27c3c43c-1f38-4bb0-a0a8-b1f8bf2d4cba",
        "vscode": {
          "languageId": "raw"
        }
      },
      "source": [
        "count = 0 \n",
        "\n",
        "for i in range(5):          # outer loop runs 5 times\n",
        "    while True:\n",
        "        if i % 2 == 0:\n",
        "            break           # breaks the while loop if i is even\n",
        "        count += 1\n",
        "        if count > 2:\n",
        "            continue        # skips the rest of the while loop and starts again\n",
        "        break               # breaks the while loop if count <= 2"
      ]
    },
    {
      "cell_type": "markdown",
      "id": "c7d1e032-0338-43f5-9fab-fa356fbc3783",
      "metadata": {
        "id": "c7d1e032-0338-43f5-9fab-fa356fbc3783"
      },
      "source": [
        "Which of the following are true?<br>\n",
        "[A] The outer loop runs 5 times<br>\n",
        "[B] The while loop runs only when i is odd<br>\n",
        "[C] count will be 4 after the loops finish<br>\n",
        "[D] The continue affects the for loop<br>\n",
        "[E] count will be 3 after the loops finish<br>"
      ]
    },
    {
      "cell_type": "code",
      "execution_count": null,
      "id": "18fa2755-834d-4f22-b5a2-280b2d2d31cb",
      "metadata": {
        "id": "18fa2755-834d-4f22-b5a2-280b2d2d31cb"
      },
      "outputs": [],
      "source": [
        "# A\n",
        "# True — The for loop runs from i = 0 to 4\n",
        "\n",
        "# B\n",
        "# True — The while loop only runs when i is odd (1, 3)\n",
        "\n",
        "# C\n",
        "# False — count increases but not to 4\n",
        "\n",
        "# D\n",
        "# False — continue only affects the while loop, not the outer for loop\n",
        "\n",
        "# E\n",
        "# False — count becomes 2"
      ]
    },
    {
      "cell_type": "markdown",
      "id": "67add228-33bb-498a-9e71-20712cad0c5a",
      "metadata": {
        "id": "67add228-33bb-498a-9e71-20712cad0c5a"
      },
      "source": [
        "Answer: AB"
      ]
    },
    {
      "cell_type": "markdown",
      "id": "9adbae83-127e-466b-8a94-02618d69dcd1",
      "metadata": {
        "id": "9adbae83-127e-466b-8a94-02618d69dcd1"
      },
      "source": [
        "### **Q3**\n",
        "Which of the following statements are true given:"
      ]
    },
    {
      "cell_type": "raw",
      "id": "3f611f2a-8f1f-4e88-bbda-9f297baed9fb",
      "metadata": {
        "id": "3f611f2a-8f1f-4e88-bbda-9f297baed9fb"
      },
      "source": [
        "nums = [-1, 1, 0, 2]\n",
        "\n",
        "for num in nums:\n",
        "    if num % 2:\n",
        "        print('even number')"
      ]
    },
    {
      "cell_type": "markdown",
      "id": "333bd829-be05-4709-9c05-62cb2b2f266b",
      "metadata": {
        "id": "333bd829-be05-4709-9c05-62cb2b2f266b"
      },
      "source": [
        "Which of the following are true?:<br>\n",
        "[A] Even number will be printed twice<br>\n",
        "[B] The loop ran for 4 iterations<br>\n",
        "[C] The loop is printing 'even number' when num is even<br>"
      ]
    },
    {
      "cell_type": "code",
      "execution_count": null,
      "id": "0428a57e-750b-4006-9437-481146f915fe",
      "metadata": {
        "id": "0428a57e-750b-4006-9437-481146f915fe"
      },
      "outputs": [],
      "source": [
        "# A\n",
        "# True — 'even number' is printed for -1 and 1\n",
        "\n",
        "# B\n",
        "# True — the loop runs through all 4 items in the list\n",
        "\n",
        "# C\n",
        "# False — it prints 'even number' when num is odd\n"
      ]
    },
    {
      "cell_type": "markdown",
      "id": "bf95431e-3dd6-4be6-bc90-bf47556715ad",
      "metadata": {
        "id": "bf95431e-3dd6-4be6-bc90-bf47556715ad"
      },
      "source": [
        "Answer: AB"
      ]
    },
    {
      "cell_type": "markdown",
      "id": "c0a21b86-d332-4d94-828c-2ab1b1bb0626",
      "metadata": {
        "id": "c0a21b86-d332-4d94-828c-2ab1b1bb0626"
      },
      "source": [
        "### **Q4**\n",
        "Which of the following statements are true given:"
      ]
    },
    {
      "cell_type": "raw",
      "id": "81a1d469-4792-458a-9d58-1ae84587abd8",
      "metadata": {
        "id": "81a1d469-4792-458a-9d58-1ae84587abd8",
        "vscode": {
          "languageId": "raw"
        }
      },
      "source": [
        "total = 0\n",
        "for i in range(100):\n",
        "    if total > 10:\n",
        "        break\n",
        "    if i % 2 == 0:\n",
        "        continue\n",
        "    total = total + 1"
      ]
    },
    {
      "cell_type": "markdown",
      "id": "f10b6c33-703d-4a21-97d2-1f7c0e49c265",
      "metadata": {
        "id": "f10b6c33-703d-4a21-97d2-1f7c0e49c265"
      },
      "source": [
        "Which of the following are true？<br>\n",
        "[A] The loop will run 100 times<br>\n",
        "[B] total will be 11<br>\n",
        "[C] The last value of i will be 100<br>\n",
        "[D] If we swap the continue and break, total will be 0<br>\n",
        "[E] Swapping the two if blocks of code will not change any variables defined<br>"
      ]
    },
    {
      "cell_type": "code",
      "execution_count": null,
      "id": "f0a82e16-8666-4ffd-a2dd-84b7d3a79cc9",
      "metadata": {
        "id": "f0a82e16-8666-4ffd-a2dd-84b7d3a79cc9"
      },
      "outputs": [],
      "source": [
        "# A\n",
        "# False — The loop stops early due to break\n",
        "\n",
        "# B\n",
        "# True — total increases only on odd values, up to total > 10 → total becomes 11\n",
        "\n",
        "# C\n",
        "# False — the loop breaks before reaching 100\n",
        "\n",
        "# D\n",
        "# True — if we check for even first and break, it stops on the first even number (i=0), so total stays 0\n",
        "\n",
        "# E\n",
        "# False — swapping the order of if-blocks affects whether break happens before continue"
      ]
    },
    {
      "cell_type": "markdown",
      "id": "4e501fcc-2021-4a53-99e0-518af13450e1",
      "metadata": {
        "id": "4e501fcc-2021-4a53-99e0-518af13450e1"
      },
      "source": [
        "Answer: BD"
      ]
    },
    {
      "cell_type": "markdown",
      "id": "d29824d5-5610-4a59-8d0f-6e5d859bac4d",
      "metadata": {
        "id": "d29824d5-5610-4a59-8d0f-6e5d859bac4d"
      },
      "source": [
        "### **Q5**\n",
        "Which of the following statements are true given:"
      ]
    },
    {
      "cell_type": "raw",
      "id": "0d052c58-4603-4011-bfe2-16c5ab99d8e2",
      "metadata": {
        "id": "0d052c58-4603-4011-bfe2-16c5ab99d8e2"
      },
      "source": [
        "def count_positive(nums):\n",
        "    total = 0\n",
        "    for num in nums:\n",
        "        if num < 0:\n",
        "            continue\n",
        "        if num == 0:\n",
        "            break\n",
        "        total += 1\n",
        "    return total\n",
        "\n",
        "count_positive([3, 2, -1, 5, 0, 6])"
      ]
    },
    {
      "cell_type": "markdown",
      "id": "274c3d9f-bf93-4e29-90d8-f7921e5261c3",
      "metadata": {
        "id": "274c3d9f-bf93-4e29-90d8-f7921e5261c3"
      },
      "source": [
        "Which of the following are true？<br>\n",
        "[A] The function will return 3<br>\n",
        "[B] The continue skips negative numbers<br>\n",
        "[C] The break stops the loop when it reaches 0<br>\n",
        "[D] If break and continue are swapped, the result will be the same<br>\n",
        "[E] The loop runs through the entire list<br>"
      ]
    },
    {
      "cell_type": "code",
      "execution_count": null,
      "id": "96912ead-c330-4711-b7c8-62b9e0eab678",
      "metadata": {
        "id": "96912ead-c330-4711-b7c8-62b9e0eab678"
      },
      "outputs": [],
      "source": [
        "# A\n",
        "# True — It counts 3, 2, and 5; stops at 0\n",
        "\n",
        "# B\n",
        "# True — Negative number -1 is skipped using continue\n",
        "\n",
        "# C\n",
        "# True — Loop stops once 0 is encountered\n",
        "\n",
        "# D\n",
        "# False — If we break on negative numbers, the loop stops earlier and total becomes 0\n",
        "\n",
        "# E\n",
        "# False — The loop stops at 0, so it doesn’t process the final element (6)"
      ]
    },
    {
      "cell_type": "markdown",
      "id": "9d249506-1e05-4a6d-a3f0-8d180b26aabd",
      "metadata": {
        "id": "9d249506-1e05-4a6d-a3f0-8d180b26aabd"
      },
      "source": [
        "Answer: ABC"
      ]
    },
    {
      "cell_type": "markdown",
      "id": "fb6a5964-c11c-42a7-927c-b3223ca8ca5d",
      "metadata": {
        "id": "fb6a5964-c11c-42a7-927c-b3223ca8ca5d"
      },
      "source": [
        "## Q7 Cursor Application – Personalized Daily Scheduler Bot"
      ]
    },
    {
      "cell_type": "markdown",
      "id": "e449b5d0",
      "metadata": {},
      "source": [
        "Create a Daily Scheduler Bot that helps the user plan their day based on how many free hours they have. The program should:\n",
        "\n",
        "- Ask the user's name and greet them.\n",
        "\n",
        "- Ask how many free hours they have today.\n",
        "\n",
        "- Generate a suggested schedule using if/else logic.\n",
        "\n",
        "- Display the schedule in a numbered list using a loop.\n",
        "\n",
        "- Allow the user to interactively edit schedule items using a while loop.\n",
        "\n",
        "**Sample Input and Sample Output**\n",
        "\n",
        "=== Welcome to Daily Schedule Generator ===\n",
        "\n",
        "What's your name? Alice\n",
        "\n",
        "Hi Alice! How many hours do you have available today? (1-24): 15\n",
        "\n",
        "=== Alice's Daily Schedule (10 hours) ===\n",
        "1. Morning routine (1 hour)\n",
        "2. Work/Study session 1 (2.5 hours)\n",
        "3. Lunch break (1 hour)\n",
        "4. Work/Study session 2 (2.5 hours)\n",
        "5. Personal time (1 hour)\n",
        "\n",
        "==================================================\n",
        "\n",
        "What would you like to do?\n",
        "1. Edit schedule\n",
        "2. Generate a new schedule\n",
        "3. Exit\n",
        "Enter your choice (1-3): 1\n",
        "\n",
        "=== Edit Your Schedule ===\n",
        "Choose an option:\n",
        "1. Modify an existing activity\n",
        "2. Add a new activity\n",
        "3. Remove an activity\n",
        "4. Go back to main menu\n",
        "Enter your choice (1-4): 2          \n",
        "Enter the new activity: Take a walk\n",
        "Activity added successfully!\n",
        "\n",
        "==================================================\n",
        "\n",
        "=== Alice's Daily Schedule (10 hours) ===\n",
        "1. Morning routine (1 hour)\n",
        "2. Work/Study session 1 (2.5 hours)\n",
        "3. Lunch break (1 hour)\n",
        "4. Work/Study session 2 (2.5 hours)\n",
        "5. Personal time (1 hour)\n",
        "6. Take a walk\n",
        "\n",
        "==================================================\n",
        "\n",
        "What would you like to do?\n",
        "1. Edit schedule\n",
        "2. Generate a new schedule\n",
        "3. Exit\n",
        "Enter your choice (1-3): 3\n",
        "\n",
        "Thanks for using the Daily Schedule Generator, Alice!\n",
        "Have a productive day! 🌟\n",
        "\n",
        "\n",
        "**Steps:**\n",
        "1. **Open the folder where your current notebook is located.**\n",
        "1. **Prepare the sample input and sample output** above so CursorAI sees the exact format.\n",
        "2. **Prompt CursorAI** (paste into the chat panel):\n",
        "```\n",
        "  Based on this sample, build a beginner-friendly Python program that asks for the user's name and available hours in a day, then generates a basic daily schedule. Use functions to break down tasks, use if-else for time checking, and a while loop to allow editing the schedule. Output the schedule in a numbered list.\n",
        "```\n",
        "\n",
        "3. **Cursor will generate a new Python file in your current folder**:\n",
        "- Locate the new file (e.g., daily_scheduler.py) in the left sidebar\n",
        "- Open the file, click \"Run\", and when prompted, enter your info to customize your schedule\n"
      ]
    },
    {
      "cell_type": "markdown",
      "id": "f5c78694",
      "metadata": {},
      "source": [
        "## **7. Homework**\n",
        "\n",
        "### **Part I**\n",
        "\n",
        "#### **7.1 Function & List Comprehension**\n",
        "\n",
        "- Python Function: https://www.w3schools.com/python/exercise.asp?x=xrcise_functions1\n",
        "\n",
        "Note: You may skip the last two questions, as they were not covered in the lecture\n",
        "\n",
        "- Python List Comprehension: https://www.w3schools.com/python/exercise.asp?x=xrcise_lists_comprehension1\n",
        "\n",
        "\n",
        "\n",
        "#### **7.2 Loop**\n",
        "- Python For Loops: https://www.w3schools.com/python/exercise.asp?x=xrcise_for_loops1 \n",
        "\n",
        "- Python While Loops: https://www.w3schools.com/python/exercise.asp?x=xrcise_while_loops1 \n",
        "\n",
        "- Python Loop Lists: https://www.w3schools.com/python/exercise.asp?x=xrcise_lists_loop1\n",
        "\n",
        "- Python Loop Tuples: https://www.w3schools.com/python/exercise.asp?x=xrcise_tuples_loop1 \n",
        "\n",
        "- Python Loop Sets: https://www.w3schools.com/python/exercise.asp?x=xrcise_sets_loop1 \n",
        "\n",
        "- Python Loop Dictionaries: https://www.w3schools.com/python/exercise.asp?x=xrcise_dictionaries_loop1\n",
        "\n",
        "- Python Nested Dictionaries: https://www.w3schools.com/python/exercise.asp?x=xrcise_dictionaries_nested1 \n",
        "\n",
        "\n",
        "#### **7.3 If Else Statement**\n",
        "- Python If Else: https://www.w3schools.com/python/exercise.asp?x=xrcise_conditions1\n",
        "Note: You can skip the last question, but feel free to look it up online to understand the syntax\n",
        "\n",
        "\n",
        "\n",
        "\n",
        "\n"
      ]
    },
    {
      "cell_type": "markdown",
      "id": "d0f6d5b9",
      "metadata": {},
      "source": [
        "### **Part II**\n",
        "\n",
        "**Practice Instructions:**\n",
        "\n",
        "You might see code written like this:\n",
        "```\n",
        "class Solution:\n",
        "    def checkStatus(self, a, b, flag):\n",
        "```\n",
        "Don't worry if this looks confusing! You can ignore two things for now: \n",
        "- `class Solution` \n",
        "- `self` inside the function. \n",
        "\n",
        "We will explain what these mean in Lecture 4 when we cover classes. Just focus on writing your logic inside the given function — don’t worry about the rest. \n",
        "Make sure you do not remove the `class` or change the function signature when submitting. \n",
        "\n",
        "(On coding platforms, they use this format to automatically test your code. The system creates an object from the Solution class and calls the function you wrote to check if it works correctly.)\n",
        "\n",
        "---\n",
        "\n",
        "\n",
        "You may also see this code and/or use this code inside print():\n",
        "```\n",
        "end=\"\"\n",
        "```\n",
        "\n",
        "Normally, when you print multiple things in a loop, Python adds a new line after each print, `end=\"\"` tells Python not to move to a new line, and instead print the next character right after the previous one.\n",
        "\n",
        "---\n",
        "\n",
        "So, as you're practicing:\n",
        "\n",
        "- Don’t stress about class or self — just write your code inside the function.\n",
        "\n",
        "- Use end=\"\" when you want to print characters on the same line.\n",
        "\n",
        "---\n",
        "\n",
        "\n",
        "**Questions:**\n",
        "1) For Loop 2- Python | Practice | GeeksforGeeks: https://www.geeksforgeeks.org/problems/for-loop-2-python/1   \n",
        "2) For loop - Python | Practice | GeeksforGeeks: https://www.geeksforgeeks.org/problems/for-loop-python/1 \n",
        "3) CodingBat Python String-1 combo_string: https://codingbat.com/prob/p194053 \n",
        "4) CodingBat Python Logic-2 lone_sum: https://codingbat.com/prob/p143951 \n",
        "5) Mark Even and Odd - Python | Practice | GeeksforGeeks: https://www.geeksforgeeks.org/problems/mark-even-and-odd/1  \n",
        "6) Check the status - Python | Practice | GeeksforGeeks: https://www.geeksforgeeks.org/problems/check-the-status/1 \n",
        "7) Jumping through While - Python | Practice | GeeksforGeeks: https://www.geeksforgeeks.org/problems/jumping-through-while-python/1  \n",
        "8) Zero Converter - Python | Practice | GeeksforGeeks: https://www.geeksforgeeks.org/problems/zero-converter-python/1  \n",
        "9) CodingBat Python Logic-2 lucky_sum: https://codingbat.com/prob/p107863  \n",
        "10) CodingBat Python Logic-2 make_chocolate: https://codingbat.com/prob/p190859  \n",
        "11) Optional Challenge Question: https://www.hackerrank.com/challenges/py-introduction-to-sets/problem?isFullScreen=true \n",
        "12) Optional Challenge Question: https://www.hackerrank.com/challenges/py-set-add/problem?isFullScreen=true "
      ]
    }
  ],
  "metadata": {
    "colab": {
      "provenance": []
    },
    "kernelspec": {
      "display_name": "base",
      "language": "python",
      "name": "python3"
    },
    "language_info": {
      "codemirror_mode": {
        "name": "ipython",
        "version": 3
      },
      "file_extension": ".py",
      "mimetype": "text/x-python",
      "name": "python",
      "nbconvert_exporter": "python",
      "pygments_lexer": "ipython3",
      "version": "3.13.5"
    }
  },
  "nbformat": 4,
  "nbformat_minor": 5
}
